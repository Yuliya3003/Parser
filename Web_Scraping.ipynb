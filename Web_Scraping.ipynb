{
  "nbformat": 4,
  "nbformat_minor": 0,
  "metadata": {
    "colab": {
      "provenance": [],
      "authorship_tag": "ABX9TyOXU+9wHAJBACT+kdG7h5bf",
      "include_colab_link": true
    },
    "kernelspec": {
      "name": "python3",
      "display_name": "Python 3"
    },
    "language_info": {
      "name": "python"
    }
  },
  "cells": [
    {
      "cell_type": "markdown",
      "metadata": {
        "id": "view-in-github",
        "colab_type": "text"
      },
      "source": [
        "<a href=\"https://colab.research.google.com/github/Yuliya3003/Parser/blob/main/Web_Scraping.ipynb\" target=\"_parent\"><img src=\"https://colab.research.google.com/assets/colab-badge.svg\" alt=\"Open In Colab\"/></a>"
      ]
    },
    {
      "cell_type": "markdown",
      "source": [
        "### Устанавливаем зависимости"
      ],
      "metadata": {
        "id": "NRC2KqtZN_pa"
      }
    },
    {
      "cell_type": "code",
      "source": [
        "! pip install scrapy\n",
        "! pip install beautifulsoup4\n"
      ],
      "metadata": {
        "id": "NFqzICGEkox9"
      },
      "execution_count": null,
      "outputs": []
    },
    {
      "cell_type": "markdown",
      "source": [
        "### Импортируем используемые модули"
      ],
      "metadata": {
        "id": "kY-j-42iOL6p"
      }
    },
    {
      "cell_type": "code",
      "source": [
        "from bs4 import BeautifulSoup\n",
        "from urllib.request import urlopen\n",
        "from urllib.error import HTTPError\n",
        "import csv\n",
        "import re"
      ],
      "metadata": {
        "id": "b29DCcjRjduN"
      },
      "execution_count": 2,
      "outputs": []
    },
    {
      "cell_type": "markdown",
      "source": [
        "### Метод, который сохраняет название статьи"
      ],
      "metadata": {
        "id": "e7Z-dRyBOZFr"
      }
    },
    {
      "cell_type": "code",
      "source": [
        "def getTitle(url):\n",
        "    try:\n",
        "        html = urlopen(url)\n",
        "    except HTTPError as e:\n",
        "        return None\n",
        "    try:\n",
        "        bsObj = BeautifulSoup(html.read(), 'html.parser')\n",
        "        title = bsObj.body.i.text\n",
        "    except AttributeError as e:\n",
        "        return None\n",
        "    return title"
      ],
      "metadata": {
        "id": "BXGb2LtAj34t"
      },
      "execution_count": 3,
      "outputs": []
    },
    {
      "cell_type": "markdown",
      "source": [
        "### Метод, который сохраняет автора с использованием регулярных выражений"
      ],
      "metadata": {
        "id": "xbSqjMUPOfTy"
      }
    },
    {
      "cell_type": "code",
      "source": [
        "def getAuthor(url):\n",
        "      try:\n",
        "          html = urlopen(url)\n",
        "      except HTTPError as e:\n",
        "          return None\n",
        "      try:\n",
        "          bsObj = BeautifulSoup(html.read(), 'html.parser')\n",
        "      except AttributeError as e:\n",
        "          return None\n",
        "\n",
        "      full_html = str(bsObj)\n",
        "  # Регулярное выражение для поиска имени автора\n",
        "      pattern = r'\"name\":\"([^\"]+)\"'\n",
        "\n",
        "      # Ищем совпадения в HTML-коде\n",
        "      matches = re.search(pattern, full_html)\n",
        "\n",
        "      if matches:\n",
        "          author_name = matches.group(1)\n",
        "          return author_name\n",
        "      else:\n",
        "          return None"
      ],
      "metadata": {
        "id": "AJsvd70U1T4j"
      },
      "execution_count": 4,
      "outputs": []
    },
    {
      "cell_type": "markdown",
      "source": [
        "### Метод, который сохраняет информацию в CSV файл"
      ],
      "metadata": {
        "id": "uZbX3U-5Ol7j"
      }
    },
    {
      "cell_type": "code",
      "source": [
        "def csv_writer(data, path):\n",
        "    \"\"\"\n",
        "    Write data to a CSV file path\n",
        "    \"\"\"\n",
        "    with open(path, \"w\", newline='') as csv_file:\n",
        "          writer = csv.writer(csv_file, delimiter=',')\n",
        "          for line in data:\n",
        "              writer.writerow(line)"
      ],
      "metadata": {
        "id": "xOSjxB2fktYt"
      },
      "execution_count": 5,
      "outputs": []
    },
    {
      "cell_type": "markdown",
      "source": [
        "### Основной блок"
      ],
      "metadata": {
        "id": "K4DeMBJ7OuDT"
      }
    },
    {
      "cell_type": "code",
      "source": [
        "urls = [\"https://cyberleninka.ru/article/n/mikroservisnaya-arhitektura\",\n",
        "        \"https://cyberleninka.ru/article/n/mikroservisnaya-arhitektura-na-frontend\",\n",
        "        \"https://cyberleninka.ru/article/n/problema-tselostnosti-dannyh-v-mikroservisnoy-arhitekture\",\n",
        "        \"https://cyberleninka.ru/article/n/vygody-perehoda-ot-monolitnoy-k-mikroservisnoy-arhitekture-prilozheniya\",\n",
        "        \"https://cyberleninka.ru/article/n/mikroservisnaya-arhitektura-pri-razrabotke-frontend-prilozheniy\",\n",
        "        \"https://cyberleninka.ru/article/n/analiz-arhitektur-informatsionnyh-sistem-monolitnaya-i-mikroservisnaya\",\n",
        "        \"https://cyberleninka.ru/article/n/issledovanie-mikroservisnoy-arhitektury-dlya-veb-prilozheniya\"]\n",
        "\n",
        "titles = []\n",
        "authors = []\n",
        "\n",
        "for url in urls:\n",
        "\n",
        "  title = getTitle(url)\n",
        "  if title == None:\n",
        "      print(f\"for url '{url}' title could not be found\")\n",
        "  else:\n",
        "      titles.append(title)\n",
        "\n",
        "  author = getAuthor(url)\n",
        "  if author == None:\n",
        "      print(f\"for url '{url}' author could not be found\")\n",
        "  else:\n",
        "      authors.append(author)\n",
        "\n",
        "data = [\"url,author,article_title\".split(\",\")]\n",
        "for index in range(len(urls)):\n",
        "  data.append([urls[index], authors[index], titles[index]])\n",
        "\n",
        "\n",
        "path = \"output.csv\"\n",
        "csv_writer(data, path)"
      ],
      "metadata": {
        "id": "9E1DyzVy4veQ"
      },
      "execution_count": 6,
      "outputs": []
    }
  ]
}