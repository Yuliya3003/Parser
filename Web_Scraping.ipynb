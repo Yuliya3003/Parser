{
  "nbformat": 4,
  "nbformat_minor": 0,
  "metadata": {
    "colab": {
      "provenance": [],
      "authorship_tag": "ABX9TyM8ZwGSRY26CYXT0RfONNPJ",
      "include_colab_link": true
    },
    "kernelspec": {
      "name": "python3",
      "display_name": "Python 3"
    },
    "language_info": {
      "name": "python"
    }
  },
  "cells": [
    {
      "cell_type": "markdown",
      "metadata": {
        "id": "view-in-github",
        "colab_type": "text"
      },
      "source": [
        "<a href=\"https://colab.research.google.com/github/Yuliya3003/Parser/blob/main/Web_Scraping.ipynb\" target=\"_parent\"><img src=\"https://colab.research.google.com/assets/colab-badge.svg\" alt=\"Open In Colab\"/></a>"
      ]
    },
    {
      "cell_type": "markdown",
      "source": [
        "### Устанавливаем зависимости"
      ],
      "metadata": {
        "id": "NRC2KqtZN_pa"
      }
    },
    {
      "cell_type": "code",
      "source": [
        "%%shell\n",
        "cat > /etc/apt/sources.list.d/debian.list <<'EOF'\n",
        "deb [arch=amd64 signed-by=/usr/share/keyrings/debian-buster.gpg] http://deb.debian.org/debian buster main\n",
        "deb [arch=amd64 signed-by=/usr/share/keyrings/debian-buster-updates.gpg] http://deb.debian.org/debian buster-updates main\n",
        "deb [arch=amd64 signed-by=/usr/share/keyrings/debian-security-buster.gpg] http://deb.debian.org/debian-security buster/updates main\n",
        "EOF\n",
        "apt-key adv --keyserver keyserver.ubuntu.com --recv-keys DCC9EFBF77E11517\n",
        "apt-key adv --keyserver keyserver.ubuntu.com --recv-keys 648ACFD622F3D138\n",
        "apt-key adv --keyserver keyserver.ubuntu.com --recv-keys 112695A0E562B32A\n",
        "\n",
        "apt-key export 77E11517 | gpg --dearmour -o /usr/share/keyrings/debian-buster.gpg\n",
        "apt-key export 22F3D138 | gpg --dearmour -o /usr/share/keyrings/debian-buster-updates.gpg\n",
        "apt-key export E562B32A | gpg --dearmour -o /usr/share/keyrings/debian-security-buster.gpg\n",
        "cat > /etc/apt/preferences.d/chromium.pref << 'EOF'\n",
        "\n",
        "Package: *\n",
        "Pin: release a=eoan\n",
        "Pin-Priority: 500\n",
        "\n",
        "Package: *\n",
        "Pin: origin \"deb.debian.org\"\n",
        "Pin-Priority: 300\n",
        "\n",
        "Package: chromium*\n",
        "Pin: origin \"deb.debian.org\"\n",
        "Pin-Priority: 700\n",
        "EOF\n",
        "\n",
        "apt-get update\n",
        "apt-get install chromium chromium-driver\n",
        "\n",
        "# Install Selenium\n",
        "pip install selenium"
      ],
      "metadata": {
        "id": "KsSjRXww39iY"
      },
      "execution_count": null,
      "outputs": []
    },
    {
      "cell_type": "markdown",
      "source": [
        "### Импортируем используемые модули"
      ],
      "metadata": {
        "id": "kY-j-42iOL6p"
      }
    },
    {
      "cell_type": "code",
      "source": [
        "from selenium import webdriver\n",
        "from selenium.webdriver.chrome.options import Options\n",
        "from selenium.webdriver.chrome.service import Service\n",
        "import time\n",
        "from selenium.webdriver.common.by import By\n",
        "import csv\n",
        "\n",
        "service = Service(\"/usr/bin/chromedriver\")\n",
        "options = Options()\n",
        "options.add_argument(\"--headless\")\n",
        "options.add_argument(\"--no-sandbox\")\n",
        "driver = webdriver.Chrome(service=service, options=options)"
      ],
      "metadata": {
        "id": "3Rp7UKx44Mq2"
      },
      "execution_count": 2,
      "outputs": []
    },
    {
      "cell_type": "markdown",
      "source": [
        "### Методы, которые сохраняют название статьи, автора, и ссылку"
      ],
      "metadata": {
        "id": "e7Z-dRyBOZFr"
      }
    },
    {
      "cell_type": "code",
      "source": [
        "def get_titles(driver):\n",
        "  titles = driver.find_elements(By.CSS_SELECTOR, \"li h2\")\n",
        "  titles = [title.text for title in titles]\n",
        "  return titles\n",
        "\n",
        "def get_authors(driver):\n",
        "  authors = driver.find_elements(By.CSS_SELECTOR, \"#search-results li span\")\n",
        "  authors = [author.text for author in authors[::2]] # Есть несколько span'ов без класса, поэтому берем только каждый третий\n",
        "  return authors\n",
        "\n",
        "def get_urls(driver):\n",
        "  urls = driver.find_elements(By.CSS_SELECTOR, \"li h2 a\")\n",
        "  urls = [url.get_attribute('href') for url in urls]\n",
        "  return urls\n",
        "\n"
      ],
      "metadata": {
        "id": "BXGb2LtAj34t"
      },
      "execution_count": 3,
      "outputs": []
    },
    {
      "cell_type": "markdown",
      "source": [
        "### Метод, который находит всех авторов, названия и ссылки на одной странице (по умолчанию 1)"
      ],
      "metadata": {
        "id": "xbSqjMUPOfTy"
      }
    },
    {
      "cell_type": "code",
      "source": [
        "def make_query_one_page(query, page=1):\n",
        "\n",
        "  query = query.replace(\" \", \"%20\") # подгоняем url под кодировку, в которой пробелы представляют из себя %20\n",
        "\n",
        "  try:\n",
        "    url = f\"https://cyberleninka.ru/search?q={query}&page={page}\"\n",
        "\n",
        "    driver.get(url)\n",
        "    time.sleep(5) # Дожидаемся загрузки страницы\n",
        "\n",
        "    titles = get_titles(driver)\n",
        "    authors = get_authors(driver)\n",
        "    urls = get_urls(driver)\n",
        "\n",
        "    driver.quit()\n",
        "\n",
        "  except:\n",
        "    return None\n",
        "\n",
        "  return titles, authors, urls"
      ],
      "metadata": {
        "id": "AJsvd70U1T4j"
      },
      "execution_count": 4,
      "outputs": []
    },
    {
      "cell_type": "markdown",
      "source": [
        "### Метод, который проходится по всем страницам"
      ],
      "metadata": {
        "id": "SMhx1i2B5Ikz"
      }
    },
    {
      "cell_type": "code",
      "source": [
        "def make_query_all_possible_pages(query):\n",
        "\n",
        "  query = query.replace(\" \", \"%20\") # подгоняем url под кодировку, в которой пробелы представляют из себя %20\n",
        "\n",
        "  titles = []\n",
        "  authors = []\n",
        "  urls = []\n",
        "  page = 0\n",
        "\n",
        "  while True:\n",
        "    time.sleep(5)\n",
        "    page += 1\n",
        "\n",
        "    try:\n",
        "      url = f\"https://cyberleninka.ru/search?q={query}&page={page}\"\n",
        "\n",
        "      driver.get(url)\n",
        "      time.sleep(5) # Дожидаемся загрузки страницы\n",
        "\n",
        "      titles += get_titles(driver)\n",
        "      authors += get_authors(driver)\n",
        "      urls += get_urls(driver)\n",
        "\n",
        "      driver.quit()\n",
        "\n",
        "    except:\n",
        "      break\n",
        "\n",
        "  return titles, authors, urls"
      ],
      "metadata": {
        "id": "F190i64O4nbz"
      },
      "execution_count": 5,
      "outputs": []
    },
    {
      "cell_type": "markdown",
      "source": [
        "### Метод, который сохраняет информацию в CSV файл"
      ],
      "metadata": {
        "id": "uZbX3U-5Ol7j"
      }
    },
    {
      "cell_type": "code",
      "source": [
        "def csv_writer(data, path):\n",
        "    \"\"\"\n",
        "    Write data to a CSV file path\n",
        "    \"\"\"\n",
        "    with open(path, \"w\", newline='') as csv_file:\n",
        "          writer = csv.writer(csv_file, delimiter=',')\n",
        "          for line in data:\n",
        "              writer.writerow(line)"
      ],
      "metadata": {
        "id": "xOSjxB2fktYt"
      },
      "execution_count": 6,
      "outputs": []
    },
    {
      "cell_type": "markdown",
      "source": [
        "### Основной блок"
      ],
      "metadata": {
        "id": "K4DeMBJ7OuDT"
      }
    },
    {
      "cell_type": "code",
      "source": [
        "query = \"микросервисная архитектура\"\n",
        "res = make_query_one_page(query)\n",
        "data = [\"url,author,title\".split(\",\")]\n",
        "for index in range(len(res[0])):\n",
        "  data.append([res[2][index], res[1][index], res[0][index]])\n",
        "\n",
        "path = \"output.csv\"\n",
        "csv_writer(data, path)"
      ],
      "metadata": {
        "id": "9E1DyzVy4veQ"
      },
      "execution_count": 7,
      "outputs": []
    }
  ]
}